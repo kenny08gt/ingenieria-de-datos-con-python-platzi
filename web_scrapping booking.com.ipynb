{
 "cells": [
  {
   "cell_type": "code",
   "execution_count": 41,
   "id": "a301ba24",
   "metadata": {},
   "outputs": [],
   "source": [
    "import requests\n",
    "import bs4\n",
    "\n",
    "url = \"https://www.booking.com/hotel/us/hilton-los-angeles-universal-city.html?label=gen173nr-1FCAEoggI46AdIM1gEaF6IAQGYATG4AQfIAQzYAQHoAQH4AQKIAgGoAgO4Ar-A-YoGwAIB0gIkMjFlYmMwMWQtOGJjOS00N2JkLWI1NzktOTVjYjkxZDdjZDYz2AIF4AIB;sid=cb6b88f9e039e0b7859305d84292f0d0;dest_id=20014181;dest_type=city;dist=0;group_adults=2;group_children=0;hapos=1;hpos=1;no_rooms=1;room1=A%2CA;sb_price_type=total;sr_order=popularity;srepoch=1633566791;srpvid=683303e3c5210054;type=total;ucfs=1&#hotelTmpl\"\n",
    "\n",
    "response = requests.get(url)\n"
   ]
  },
  {
   "cell_type": "code",
   "execution_count": 44,
   "id": "b99dae72",
   "metadata": {},
   "outputs": [
    {
     "name": "stdout",
     "output_type": "stream",
     "text": [
      "The Magic Castle\n",
      "2.4 miles\n",
      "Walt Disney Studios (Burbank)\n",
      "2.4 miles\n",
      "Hollywood Sign\n",
      "2.1 miles\n",
      "Hollywood Bowl\n",
      "2 miles\n",
      "Runyon Canyon Park\n",
      "1.9 miles\n",
      "Warner Bros. Studios\n",
      "1.3 miles\n",
      "Gibson Amphitheatre\n",
      "0.3 miles\n",
      "Universal Studios Hollywood\n",
      "0.3 miles\n",
      "Universal Studios City Walk\n",
      "0.3 miles\n",
      "California Science Center\n",
      "9.3 miles\n",
      "Microsoft Theater\n",
      "8.3 miles\n",
      "L.A. Live\n",
      "8.3 miles\n",
      "Dodger Stadium\n",
      "8.1 miles\n",
      "Getty Center\n",
      "7.8 miles\n",
      "Petersen Automotive Museum\n",
      "5.1 miles\n",
      "Melrose Avenue\n",
      "3.9 miles\n",
      "Griffith Observatory\n",
      "3.6 miles\n",
      "Capitol Records Building\n",
      "3 miles\n",
      "Dolby Theater\n",
      "2.7 miles\n",
      "Train\n",
      "\n",
      "Universal City (LACMTA Station)\n",
      "0.3 miles\n",
      "Long Beach Airport\n",
      "25.1 miles\n",
      "Los Angeles International Airport\n",
      "13.6 miles\n",
      "Hollywood Burbank Airport\n",
      "4.4 miles\n"
     ]
    }
   ],
   "source": [
    "soup = bs4.BeautifulSoup(response.text, 'html.parser')\n",
    "news = soup.select('.hp_location_block__content_container .hp_location_block__section_container ul')\n",
    "\n",
    "for item in news:\n",
    "    places = item.select('li .bui-list__description')\n",
    "    distances = item.select('li .hp_location_block__section_list_distance')\n",
    "    try:\n",
    "        node = places.pop()\n",
    "        distance = distances.pop()\n",
    "        while node is not None:\n",
    "            print(str(node.get_text()).strip())\n",
    "            print(str(distance.get_text()).strip())\n",
    "            node = places.pop()\n",
    "            distance = distances.pop()\n",
    "    except: \n",
    "        node = None"
   ]
  }
 ],
 "metadata": {
  "kernelspec": {
   "display_name": "Python 3",
   "language": "python",
   "name": "python3"
  },
  "language_info": {
   "codemirror_mode": {
    "name": "ipython",
    "version": 3
   },
   "file_extension": ".py",
   "mimetype": "text/x-python",
   "name": "python",
   "nbconvert_exporter": "python",
   "pygments_lexer": "ipython3",
   "version": "3.8.8"
  }
 },
 "nbformat": 4,
 "nbformat_minor": 5
}
